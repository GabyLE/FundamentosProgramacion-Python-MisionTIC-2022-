{
 "cells": [
  {
   "cell_type": "markdown",
   "id": "a17e764f",
   "metadata": {},
   "source": [
    "### Clase Vector"
   ]
  },
  {
   "cell_type": "code",
   "execution_count": 1,
   "id": "08c78c24",
   "metadata": {},
   "outputs": [],
   "source": [
    "import random\n",
    "\n",
    "class vector:\n",
    "    def __init__(self,n):\n",
    "        self.n = n\n",
    "        self.V = [0]*(n+1)\n",
    "    \n",
    "    def construyeVector(self, m, r):\n",
    "        self.V[0] = m\n",
    "        for i in range(1, m + 1):\n",
    "            self.V[i] = random.randint(1, r)\n",
    "\n",
    "    def imprimeVector(self, mensaje = \"vector sin nombre: \\t\"):\n",
    "        print(\"\\n\", mensaje, end=\" \")\n",
    "        for i in range(1, self.V[0] + 1):\n",
    "            print(self.V[i], end=\", \")\n",
    "        print()\n",
    "    \n",
    "    def agregarDato(self, d):\n",
    "        if self.esLleno():\n",
    "            return\n",
    "        self.V[0] = self.V[0] + 1\n",
    "        self.V[self.V[0]] = d\n",
    "    \n",
    "    def asignaDato(self, d, i):\n",
    "        self.V[i] = d\n",
    "    \n",
    "    def retornaDato(self, i):\n",
    "        return self.V[i]\n",
    "    \n",
    "    def intercambiar(self, a, b):\n",
    "        aux = self.V[a]\n",
    "        self.V[a] = self.V[b]\n",
    "        self.V[b] = aux\n",
    "    \n",
    "    def seleccion(self):\n",
    "        for i in range(1, self.V[0]):\n",
    "            k = i\n",
    "            for j in range(i + 1, self.V[0] + 1):\n",
    "                if self.V[j] < self.V[k]:\n",
    "                    k = j      \n",
    "            self.intercambiar(k, i)\n",
    "        \n",
    "    def mayor(self):\n",
    "        mayor = 1\n",
    "        for i in range(1, self.V[0] + 1):\n",
    "            if self.V[i] > self.V[mayor]:\n",
    "                mayor = i\n",
    "        return mayor\n",
    "    \n",
    "    def menor(self):\n",
    "        menor = 1\n",
    "        for i in range(1, self.V[0] + 1):\n",
    "            if self.V[i] < self.V[menor]:\n",
    "                menor = i\n",
    "        return menor\n",
    "    \n",
    "    def buscarDato(self, d):\n",
    "        i = 1\n",
    "        while i <= self.V[0] and self.V[i] != d:\n",
    "            i = i + 1\n",
    "        if i <= self.V[0]:\n",
    "            return i\n",
    "        return -1\n",
    "    \n",
    "    def borrarDatoEnPosicion(self, i):\n",
    "        if i <= 0 or i > self.V[0]:\n",
    "            print(\"\\nParámetro i inválido\")\n",
    "            return\n",
    "        for j in range(i, self.V[0]):\n",
    "            self.V[j] = self.V[j + 1]\n",
    "        self.V[0] = self.V[0] - 1\n",
    "    \n",
    "    def borrarDato(self, d):\n",
    "        i = self.buscarDato(d)\n",
    "        if i != -1:\n",
    "            self.borrarDatoEnPosicion(i)\n",
    "    \n",
    "    def posicionesUsadas(self):\n",
    "        return self.V[0]\n",
    "    \n",
    "    def esVacio(self):\n",
    "        return self.V[0] == 0\n",
    "    \n",
    "    def esLleno(self):\n",
    "        return self.V[0] == self.n\n",
    "    \n",
    "    def tamagno(self):\n",
    "        return self.n\n",
    "    \n",
    "    def asignaNumeroElementos(self, m):\n",
    "        self.V[0] = m\n",
    "    \n",
    "    def buscaDondeInsertar(self, d):\n",
    "        i = 1\n",
    "        while i <= self.V[0] and self.V[i] < d:\n",
    "            i = i + 1\n",
    "        return i\n",
    "    \n",
    "    def insertar(self, d, i = 0):\n",
    "        if self.esLleno():\n",
    "            print(\"\\nVector lleno, no se puede insertar\")\n",
    "            return \n",
    "        if i == 0: \n",
    "            i = self.buscaDondeInsertar(d)\n",
    "        for j in range(self.V[0], i - 1, -1):\n",
    "            self.V[j + 1] = self.V[j]\n",
    "        self.V[i] = d\n",
    "        self.V[0] = self.V[0] + 1\n",
    "    \n",
    "    def sumaDatos(self):\n",
    "        s = 0\n",
    "        for i in range(1, self.V[0] + 1):\n",
    "            s = s + self.V[i]\n",
    "        return s"
   ]
  },
  {
   "cell_type": "markdown",
   "id": "866e3915",
   "metadata": {},
   "source": [
    "# Reto 1"
   ]
  },
  {
   "cell_type": "markdown",
   "id": "df80413b",
   "metadata": {},
   "source": [
    "## Variante 1\n",
    "Se genera un entero entre 15 y 30; luego se construye un objeto de la clase vector (esta clase ya existe) tal como la definida en el curso. El tamaño del vector es el número generado inicialmente. Luego, se llena el vector con números enteros entre 1 y 99999 generados aleatoriamente.\n",
    "\n",
    "Con el vector creado se suman los datos que sean números capicúa o que comiencen con dígito par.\n",
    "\n",
    "Recuerde que un número es capicúa, es aquel que se lee igual de izquierda a derecha que de derecha a izquierda, por ejemplo, el 32523.\n",
    "\n",
    "Ejemplo:\n",
    "\n",
    "Vector 154, 6412, 74595, 77877, 4862, 96325. Note que los números que comienzan por un dígito par son 6412, 4862 y es capicúa el número 77877 por lo tanto estos son los números a sumar.\n",
    "\n",
    "    Suma = 6412 + 77877 + 4862 = 89151"
   ]
  },
  {
   "cell_type": "markdown",
   "id": "ec8ccfbb",
   "metadata": {},
   "source": [
    "### Métodos"
   ]
  },
  {
   "cell_type": "code",
   "execution_count": 7,
   "id": "a1da7e4f",
   "metadata": {},
   "outputs": [
    {
     "name": "stdout",
     "output_type": "stream",
     "text": [
      "False\n",
      "True\n"
     ]
    }
   ],
   "source": [
    "def capicua(num):\n",
    "    # convierte en string para recorrerlo\n",
    "    strNum = str(num)\n",
    "    # string vacio guardar el número al revés\n",
    "    backNum = \"\"\n",
    "    # recorre el número de atrás hacia adelente y llena backNum\n",
    "    for i in range(len(strNum)-1, -1, -1):\n",
    "        backNum += strNum[i]\n",
    "    # revisa si es capicúa\n",
    "    if backNum == strNum:\n",
    "        return True\n",
    "    return False\n",
    "\n",
    "print(capicua(6412))\n",
    "print(capicua(77877))"
   ]
  },
  {
   "cell_type": "code",
   "execution_count": 8,
   "id": "4b0a1937",
   "metadata": {},
   "outputs": [
    {
     "name": "stdout",
     "output_type": "stream",
     "text": [
      "True\n",
      "False\n"
     ]
    }
   ],
   "source": [
    "def digitoPar(num):\n",
    "    # convierte en string para tomar el primer dígito\n",
    "    strNum = str(num)\n",
    "    if int(strNum[0]) % 2 == 0:\n",
    "        return True\n",
    "    return False\n",
    "\n",
    "print(digitoPar(895))\n",
    "print(digitoPar(542))"
   ]
  },
  {
   "cell_type": "markdown",
   "id": "074563ad",
   "metadata": {},
   "source": [
    "### Ensayo"
   ]
  },
  {
   "cell_type": "code",
   "execution_count": 16,
   "id": "e56664ad",
   "metadata": {},
   "outputs": [
    {
     "name": "stdout",
     "output_type": "stream",
     "text": [
      "Original [6, 154, 6412, 74595, 77877, 4862, 96325]\n",
      "Suma:  89151\n"
     ]
    }
   ],
   "source": [
    "# suma datos capicúa y que comiencen con dígito par\n",
    "n = 6\n",
    "vec = [6, 154, 6412, 74595, 77877, 4862, 96325]\n",
    "suma = 0\n",
    "for i in range(1, n +1):\n",
    "    dato = vec[i]\n",
    "    if capicua(dato) or digitoPar(dato):\n",
    "        suma += dato\n",
    "\n",
    "print('Original', a)\n",
    "print(\"Suma: \", suma)"
   ]
  },
  {
   "cell_type": "markdown",
   "id": "6a358782",
   "metadata": {},
   "source": [
    "### Solución"
   ]
  },
  {
   "cell_type": "code",
   "execution_count": 14,
   "id": "a52f70f6",
   "metadata": {},
   "outputs": [
    {
     "name": "stdout",
     "output_type": "stream",
     "text": [
      "\n",
      " Original 71141, 13786, 8470, 89981, 80800, 26885, 19269, 81507, 43057, 37784, 72496, 55122, 64559, 73645, 77057, 3264, \n",
      "Suma:  395259\n"
     ]
    }
   ],
   "source": [
    "def solucion():\n",
    "    # genera un entero entre 15 y 30\n",
    "    n = random.randint(15,30)\n",
    "    # construte objeto de la clase vector\n",
    "    vec = vector(n)\n",
    "    # llena el vector con números entre 1 y 99999\n",
    "    vec.construyeVector(n, 99999)\n",
    "    # suma datos capicúa y que comiencen con dígito par\n",
    "    suma = 0\n",
    "    for i in range(1, n + 1):\n",
    "        dato = vec.retornaDato(i)\n",
    "        if capicua(dato) or digitoPar(dato):\n",
    "            suma += dato\n",
    "    return vec, suma\n",
    "    \n",
    "a, suma = solucion()\n",
    "a.imprimeVector('Original')\n",
    "print(\"Suma: \", suma)"
   ]
  },
  {
   "cell_type": "markdown",
   "id": "78708367",
   "metadata": {},
   "source": [
    "## Variante 3\n",
    "Se genera un entero entre 15 y 25; luego se construye un objeto de la clase vector (esta clase ya existe) tal como la definida en el curso. El tamaño del vector es el número generado inicialmente. Luego, se llena el vector con números enteros entre 1 y 99 generados aleatoriamente.\n",
    "Con el vector creado se construye un nuevo vector, el cual debe contener el máximo común divisor y el mínimo común múltiplo de: el primer número y el segundo, el tercero y el cuarto, el quinto y el sexto y así sucesivamente.\n",
    "\n",
    "Por ejemplo, si en el vector a procesar en las dos primeras posiciones están los números (posición 1)36 y (Posición 2) 48 entonces en las dos primeras posiciones del vector construido estarán 12(Máximo común divisor de 36 y 48) y 144(mínimo\n",
    "común múltiplo de 36 y 48). Si el tamaño del vector es impar, el número que se quede sin pareja no será tomado en cuenta.\n",
    "\n",
    "Por el ejemplo:\n",
    "\n",
    "El vector inicial se puede ver así: 91, 58, 12, 21, 19, 2, 54, 88, 73, 32, 73, 75, 74, 57, 44,\n",
    "\n",
    "Y el vector resultante así: 1, 5278, 3, 84, 1, 38, 2, 2376, 1, 2336, 1, 5475, 1, 4218,"
   ]
  },
  {
   "cell_type": "markdown",
   "id": "eb974e9c",
   "metadata": {},
   "source": [
    "### Métodos"
   ]
  },
  {
   "cell_type": "code",
   "execution_count": 19,
   "id": "a925b4ed",
   "metadata": {},
   "outputs": [
    {
     "name": "stdout",
     "output_type": "stream",
     "text": [
      "3\n"
     ]
    }
   ],
   "source": [
    "def MCD(num1, num2):\n",
    "    # verifica cual es el mayor\n",
    "    if num1 >= num2:\n",
    "        dividendo = num1\n",
    "        divisor = num2\n",
    "    else:\n",
    "        dividendo = num2\n",
    "        divisor = num1\n",
    "    # obtiene mcd\n",
    "    while True:\n",
    "        r = dividendo % divisor\n",
    "        if r == 0:\n",
    "            return divisor\n",
    "        dividendo = divisor\n",
    "        divisor = r\n",
    "        \n",
    "print(MCD(12,21))"
   ]
  },
  {
   "cell_type": "code",
   "execution_count": 20,
   "id": "ba3de900",
   "metadata": {},
   "outputs": [
    {
     "name": "stdout",
     "output_type": "stream",
     "text": [
      "84\n"
     ]
    }
   ],
   "source": [
    "def MCM(num1, num2, mcd):\n",
    "    producto = num1 * num2\n",
    "    mcm = producto // mcd\n",
    "    return mcm\n",
    "\n",
    "print(MCM(12,21,3))"
   ]
  },
  {
   "cell_type": "markdown",
   "id": "965ed254",
   "metadata": {},
   "source": [
    "### Ensayo"
   ]
  },
  {
   "cell_type": "code",
   "execution_count": 23,
   "id": "12813044",
   "metadata": {},
   "outputs": [
    {
     "name": "stdout",
     "output_type": "stream",
     "text": [
      "Original: [15, 91, 58, 12, 21, 19, 2, 54, 88, 73, 32, 73, 75, 74, 57, 44]\n",
      "Modificado: [1, 5278, 3, 84, 1, 38, 2, 2376, 1, 2336, 1, 5475, 1, 4218]\n"
     ]
    }
   ],
   "source": [
    "# genera un entero entre 15 y 25\n",
    "n = 15\n",
    "vec1 = [15, 91, 58, 12, 21, 19, 2, 54, 88, 73, 32, 73, 75, 74, 57, 44]\n",
    "# nuevo vector\n",
    "vec2 = []\n",
    "# contruye vector que contiene el máximo común divisor (MCD) y el mínimo común múltiplo (MCM) de el primer número y el segundo\n",
    "# el tercero y el cuarto, el quinto y el sexto, ...\n",
    "# verifica si tamaño del vector es par o impar\n",
    "if n % 2 == 0:\n",
    "    limSup = n + 1\n",
    "else:\n",
    "    limSup = n\n",
    "\n",
    "for i in range(1, limSup, 2):\n",
    "    num1 = vec1[i]\n",
    "    num2 = vec1[i+1]\n",
    "    mcd = MCD(num1, num2)\n",
    "    mcm = MCM(num1, num2, mcd)\n",
    "    # añade a vector nuevo\n",
    "    vec2.append(mcd)\n",
    "    vec2.append(mcm)\n",
    "\n",
    "print(\"Original:\", vec1)\n",
    "print(\"Modificado:\",vec2)"
   ]
  },
  {
   "cell_type": "markdown",
   "id": "96583e19",
   "metadata": {},
   "source": [
    "### Solución"
   ]
  },
  {
   "cell_type": "code",
   "execution_count": 21,
   "id": "234bfacd",
   "metadata": {},
   "outputs": [
    {
     "name": "stdout",
     "output_type": "stream",
     "text": [
      "\n",
      " Original 16, 38, 85, 52, 14, 57, 21, 67, 58, 71, 10, 70, 80, 94, 26, 53, 2, 2, 46, 12, 59, 78, 19, 88, \n",
      "\n",
      " Modificado 2, 304, 1, 4420, 1, 798, 1, 1407, 1, 4118, 10, 70, 2, 3760, 1, 1378, 2, 2, 2, 276, 1, 4602, 1, 1672, \n"
     ]
    }
   ],
   "source": [
    "def solucion():\n",
    "    # genera un entero entre 15 y 25\n",
    "    n = random.randint(15,25)\n",
    "    # construye objeto clase vector\n",
    "    vec1 = vector(n)\n",
    "    # llena vecotro con números enteros entre 1 y 99\n",
    "    vec1.construyeVector(n, 99)\n",
    "    # nuevo vector\n",
    "    vec2 = vector(n)\n",
    "    # contruye vector que contiene el máximo común divisor (MCD) y el mínimo común múltiplo (MCM) de el primer número y el segundo\n",
    "    # el tercero y el cuarto, el quinto y el sexto, ...\n",
    "    # verifica si tamaño del vector es par o impar\n",
    "    if n % 2 == 0:\n",
    "        limSup = n + 1\n",
    "    else:\n",
    "        limSup = n\n",
    "    \n",
    "    for i in range(1, limSup, 2):\n",
    "        num1 = vec1.retornaDato(i)\n",
    "        num2 = vec1.retornaDato(i + 1)\n",
    "        mcd = MCD(num1, num2)\n",
    "        mcm = MCM(num1, num2, mcd)\n",
    "        # añade a vector nuevo\n",
    "        vec2.agregarDato(mcd)\n",
    "        vec2.agregarDato(mcm)\n",
    "        \n",
    "    return vec1, vec2\n",
    "\n",
    "a, b = solucion()\n",
    "a.imprimeVector('Original')\n",
    "b.imprimeVector('Modificado')\n",
    "        "
   ]
  },
  {
   "cell_type": "markdown",
   "id": "8bdd650d",
   "metadata": {},
   "source": [
    "## Variante 4\n",
    "Se genera un entero entre 5 y 10; luego se construye un objeto de la clase vector (esta clase ya existe) tal como la definida en el curso. El tamaño del vector es el número generado inicialmente. Luego, se llena el vector con números enteros entre 1 y 9 generados aleatoriamente. \n",
    "Posteriormente se realiza una copia del vector generado. Se modifica la copia del vector, de tal manera que en la primera posición del vector copia quede el resultado de sumar todos los datos del vector desde la primera posición hasta la última. En la segunda posición del vector, quede la suma de todos los datos desde la segunda posición hasta la última. En la tercera posición la suma de todos los datos desde la tercera posición hasta la última, y así sucesivamente.\n",
    "\n",
    "Por ejemplo:\n",
    "VECTOR ORIGINAL\n",
    "La copia del vector se puede ver así:\n",
    "\n",
    "||||||\n",
    "|:-:|:-:|:-:|:-:|:-:|\n",
    "|4  |1  |3  |4  |5  |\n",
    "\n",
    "La primera posición de la copia del vector debe de contener la suma de los elementos del vector desde la primera posición hasta el final, así: 4 + 1 + 3 + 4 + 5 = 17 \n",
    "En este punto el vector queda así:\n",
    "\n",
    "||||||\n",
    "|:-:|:-:|:-:|:-:|:-:|\n",
    "|17|1|3|4|5|\n",
    "\n",
    "La segunda posición de la copia del vector debe de contener la suma de los elementos del vector desde la segunda posición hasta el final, así: 1 + 3 + 4 + 5 = 13\n",
    "En este punto el vector queda así:\n",
    "\n",
    "||||||\n",
    "|:-:|:-:|:-:|:-:|:-:|\n",
    "|17|13|3|4|5|\n",
    "\n",
    "Y así sucesivamente, resultando el siguiente vector: \n",
    "\n",
    "||||||\n",
    "|:-:|:-:|:-:|:-:|:-:|\n",
    "|17|13|12|9|5|\n"
   ]
  },
  {
   "cell_type": "markdown",
   "id": "c64a433b",
   "metadata": {},
   "source": [
    "### Ensayo"
   ]
  },
  {
   "cell_type": "code",
   "execution_count": 28,
   "id": "e22dda42",
   "metadata": {},
   "outputs": [
    {
     "name": "stdout",
     "output_type": "stream",
     "text": [
      "Original: [5, 4, 1, 3, 4, 5]\n",
      "Modificado: [5, 17, 13, 12, 9, 5]\n"
     ]
    }
   ],
   "source": [
    "n = 5\n",
    "# construye objeto clase vector\n",
    "vec = [5, 4, 1, 3, 4, 5]\n",
    "# copia vector\n",
    "vec2 = vec[:]\n",
    "# modifica vector nuevo\n",
    "for j in range(1, n + 1):\n",
    "    sum = 0\n",
    "    for k in range(j, n + 1):\n",
    "        sum += vec2[k]\n",
    "    vec2[j] = sum\n",
    "print(\"Original:\", vec)\n",
    "print(\"Modificado:\", vec2)"
   ]
  },
  {
   "cell_type": "markdown",
   "id": "35342a0d",
   "metadata": {},
   "source": [
    "### Solución"
   ]
  },
  {
   "cell_type": "code",
   "execution_count": 29,
   "id": "4086343b",
   "metadata": {},
   "outputs": [
    {
     "name": "stdout",
     "output_type": "stream",
     "text": [
      "\n",
      " Original 4, 9, 4, 7, 6, \n",
      "\n",
      " Modificado 30, 26, 17, 13, 6, \n"
     ]
    }
   ],
   "source": [
    "def solucion():\n",
    "    # genera un entero entre 5 y 10\n",
    "    n = random.randint(5, 10)\n",
    "    # construye objeto clase vector\n",
    "    vec = vector(n)\n",
    "    # llena vector con numeros entre 1 y 9\n",
    "    vec.construyeVector(n, 9)\n",
    "    # copia vector\n",
    "    vec2 = vector(n)\n",
    "    for i in range(1, n + 1):\n",
    "        vec2.agregarDato(vec.retornaDato(i))\n",
    "    # modifica vector nuevo\n",
    "    for j in range(1, n + 1):\n",
    "        sum = 0\n",
    "        for k in range(j, n + 1):\n",
    "            sum += vec2.retornaDato(k)\n",
    "        vec2.asignaDato(sum, j)\n",
    "    # retorna vec original y vec2 modificado\n",
    "    return vec, vec2\n",
    "\n",
    "a,b = solucion()\n",
    "a.imprimeVector(\"Original\")\n",
    "b.imprimeVector(\"Modificado\")"
   ]
  }
 ],
 "metadata": {
  "kernelspec": {
   "display_name": "Python 3",
   "language": "python",
   "name": "python3"
  },
  "language_info": {
   "codemirror_mode": {
    "name": "ipython",
    "version": 3
   },
   "file_extension": ".py",
   "mimetype": "text/x-python",
   "name": "python",
   "nbconvert_exporter": "python",
   "pygments_lexer": "ipython3",
   "version": "3.9.1"
  }
 },
 "nbformat": 4,
 "nbformat_minor": 5
}
