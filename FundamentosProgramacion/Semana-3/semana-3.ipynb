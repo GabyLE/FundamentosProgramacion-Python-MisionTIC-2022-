{
 "cells": [
  {
   "cell_type": "markdown",
   "id": "74a06bfe-2f1b-4935-aea2-bd6891c11878",
   "metadata": {},
   "source": [
    "# Subprogramas, vectores y programación orientada a objetos"
   ]
  },
  {
   "cell_type": "markdown",
   "id": "42b5dc2a",
   "metadata": {},
   "source": [
    "## Crear un vector"
   ]
  },
  {
   "cell_type": "code",
   "execution_count": 92,
   "id": "1c3b9511",
   "metadata": {},
   "outputs": [
    {
     "name": "stdout",
     "output_type": "stream",
     "text": [
      "Entre tamaño del vector: 10\n"
     ]
    }
   ],
   "source": [
    "n = int(input(\"Entre tamaño del vector: \"))\n",
    "V = [0] * (n+1)"
   ]
  },
  {
   "cell_type": "code",
   "execution_count": 93,
   "id": "5c30c224",
   "metadata": {},
   "outputs": [],
   "source": [
    "import random"
   ]
  },
  {
   "cell_type": "markdown",
   "id": "a2002f85",
   "metadata": {},
   "source": [
    "## Cargar datos al vector con valores aleatorios"
   ]
  },
  {
   "cell_type": "code",
   "execution_count": 153,
   "id": "668a6777",
   "metadata": {},
   "outputs": [],
   "source": [
    "def construyeVector(V,n,rango):\n",
    "    V[0] = n\n",
    "    for i in range(1, n+1):\n",
    "        V[i] = random.randint(1,rango)"
   ]
  },
  {
   "cell_type": "code",
   "execution_count": 95,
   "id": "7b602af3",
   "metadata": {},
   "outputs": [
    {
     "name": "stdout",
     "output_type": "stream",
     "text": [
      "[5, 95, 69, 44, 68, 86, 0, 0, 0, 0, 0]\n"
     ]
    }
   ],
   "source": [
    "construyeVector(V,5)\n",
    "print(V)"
   ]
  },
  {
   "cell_type": "markdown",
   "id": "e4a06854",
   "metadata": {},
   "source": [
    "## Imprimir datos del vector"
   ]
  },
  {
   "cell_type": "code",
   "execution_count": 154,
   "id": "8865b7f9",
   "metadata": {},
   "outputs": [],
   "source": [
    "def imprimeVector(V, mensaje = \"Vector sin nombre:\\t\"):\n",
    "    print(\"\\n\", mensaje, end = \"\")\n",
    "    m = V[0] + 1\n",
    "    for i in range(1, m):\n",
    "        print(V[i], end = \",\")\n",
    "    print()"
   ]
  },
  {
   "cell_type": "code",
   "execution_count": 97,
   "id": "5b1e16a3",
   "metadata": {},
   "outputs": [
    {
     "name": "stdout",
     "output_type": "stream",
     "text": [
      "\n",
      " Vector sin nombre: 95,69,44,68,86,"
     ]
    }
   ],
   "source": [
    "imprimeVector(V)"
   ]
  },
  {
   "cell_type": "markdown",
   "id": "fb98cf9d",
   "metadata": {},
   "source": [
    "## ¿Está vacio o lleno?"
   ]
  },
  {
   "cell_type": "markdown",
   "id": "e7e8c032",
   "metadata": {},
   "source": [
    "Recuerde que hemos tomado la decisión de que en la posición 0 guardamos el número de posiciones usadas. Si V[0] vale 0, significa que el vector está vacío; si V[0] es igual a n (el tamaño del vector), el vector está lleno. Para controlar estas dos situaciones elaboramos dos funciones: esVacio(V) y esLleno(V, n)."
   ]
  },
  {
   "cell_type": "code",
   "execution_count": 98,
   "id": "3ed48eb3",
   "metadata": {},
   "outputs": [],
   "source": [
    "def esVacio(V):\n",
    "    if V[0] == 0:\n",
    "        return True\n",
    "    return False\n",
    "\n",
    "def esLleno(V,n):\n",
    "    if V[0] == n:\n",
    "        return True\n",
    "    return False"
   ]
  },
  {
   "cell_type": "code",
   "execution_count": 99,
   "id": "de8591c6",
   "metadata": {},
   "outputs": [
    {
     "data": {
      "text/plain": [
       "False"
      ]
     },
     "execution_count": 99,
     "metadata": {},
     "output_type": "execute_result"
    }
   ],
   "source": [
    "esVacio(V)"
   ]
  },
  {
   "cell_type": "code",
   "execution_count": 100,
   "id": "bd4a4d82",
   "metadata": {},
   "outputs": [
    {
     "data": {
      "text/plain": [
       "False"
      ]
     },
     "execution_count": 100,
     "metadata": {},
     "output_type": "execute_result"
    }
   ],
   "source": [
    "esLleno(V,8)"
   ]
  },
  {
   "cell_type": "markdown",
   "id": "d399e8ab",
   "metadata": {},
   "source": [
    "## Suma de los datos almacenados"
   ]
  },
  {
   "cell_type": "code",
   "execution_count": 101,
   "id": "de6e6376",
   "metadata": {},
   "outputs": [],
   "source": [
    "def sumaVector(V):\n",
    "    n = V[0] + 1\n",
    "    s = 0\n",
    "    for i in range(1,n):\n",
    "        s += V[i]\n",
    "    return s"
   ]
  },
  {
   "cell_type": "code",
   "execution_count": 102,
   "id": "5c15c5b1",
   "metadata": {},
   "outputs": [
    {
     "data": {
      "text/plain": [
       "362"
      ]
     },
     "execution_count": 102,
     "metadata": {},
     "output_type": "execute_result"
    }
   ],
   "source": [
    "sumaVector(V)"
   ]
  },
  {
   "cell_type": "markdown",
   "id": "f1d12faa",
   "metadata": {},
   "source": [
    "## Agregar un dato"
   ]
  },
  {
   "cell_type": "markdown",
   "id": "157d0266",
   "metadata": {},
   "source": [
    "Recibe como parámetros el dato a insertar (d), el nombre del vector donde se debe efectuar la inserción y el tamaño del vector. En nuestro algoritmo se controla que el vector no esté lleno. En caso de estarlo, simplemente retorna y no ejecuta ninguna acción. Si no retorna, le suma 1 a V[0] y almacena el dato d en esa posición."
   ]
  },
  {
   "cell_type": "code",
   "execution_count": 103,
   "id": "572962f0",
   "metadata": {},
   "outputs": [],
   "source": [
    "def agregarDato(d, V, n):\n",
    "    if esLleno(V,n):\n",
    "        return\n",
    "    V[0] = V[0] + 1\n",
    "    V[V[0]] = d\n"
   ]
  },
  {
   "cell_type": "code",
   "execution_count": 104,
   "id": "6d4dc6a2",
   "metadata": {},
   "outputs": [],
   "source": [
    "agregarDato(56, V, 8)"
   ]
  },
  {
   "cell_type": "code",
   "execution_count": 105,
   "id": "1f1dfd69",
   "metadata": {},
   "outputs": [
    {
     "name": "stdout",
     "output_type": "stream",
     "text": [
      "[6, 95, 69, 44, 68, 86, 56, 0, 0, 0, 0]\n"
     ]
    }
   ],
   "source": [
    "print(V)"
   ]
  },
  {
   "cell_type": "markdown",
   "id": "cbfefd49",
   "metadata": {},
   "source": [
    "⚠ <code>V[[O]]</code> = d -> Genera error: <code>list assignment index out of range</code>"
   ]
  },
  {
   "cell_type": "markdown",
   "id": "1969b8dd",
   "metadata": {},
   "source": [
    "## Insertar un dato en una posición específica del vector"
   ]
  },
  {
   "cell_type": "code",
   "execution_count": 106,
   "id": "cf70dfb5",
   "metadata": {},
   "outputs": [],
   "source": [
    "def insertarDato(d, i, V, n):\n",
    "    if esLleno(V,n):\n",
    "        return\n",
    "    for j in range(V[0], i - 1, -1):\n",
    "        V[j+1] = V[j]\n",
    "    V[i] = d\n",
    "    V[0] = V[0] + 1"
   ]
  },
  {
   "cell_type": "code",
   "execution_count": 107,
   "id": "7ed3d87b",
   "metadata": {
    "scrolled": true
   },
   "outputs": [],
   "source": [
    "insertarDato(13,3,V,8)"
   ]
  },
  {
   "cell_type": "code",
   "execution_count": 108,
   "id": "caff762a",
   "metadata": {},
   "outputs": [
    {
     "name": "stdout",
     "output_type": "stream",
     "text": [
      "[7, 95, 69, 13, 44, 68, 86, 56, 0, 0, 0]\n"
     ]
    }
   ],
   "source": [
    "print(V)"
   ]
  },
  {
   "cell_type": "markdown",
   "id": "914b9703",
   "metadata": {},
   "source": [
    "## Mayor dato"
   ]
  },
  {
   "cell_type": "code",
   "execution_count": 114,
   "id": "31f39534",
   "metadata": {},
   "outputs": [],
   "source": [
    "def mayorDato(V):\n",
    "    mayor = 1\n",
    "    for i in range(2, V[0] + 1):\n",
    "        if V[i] > V[mayor]:\n",
    "            mayor = i\n",
    "    return mayor"
   ]
  },
  {
   "cell_type": "code",
   "execution_count": 115,
   "id": "a67c637a",
   "metadata": {},
   "outputs": [
    {
     "name": "stdout",
     "output_type": "stream",
     "text": [
      "95\n"
     ]
    }
   ],
   "source": [
    "k = mayorDato(V)\n",
    "print(V[k])"
   ]
  },
  {
   "cell_type": "markdown",
   "id": "7cebef5c",
   "metadata": {},
   "source": [
    "El algoritmo retorna la posición donde el mayor dato aparece la primera vez."
   ]
  },
  {
   "cell_type": "code",
   "execution_count": 116,
   "id": "30942724",
   "metadata": {},
   "outputs": [],
   "source": [
    "def menorDato(V):\n",
    "    menor = 1\n",
    "    for i in range(2, V[0] + 1):\n",
    "        if V[i] < V[menor]:\n",
    "            menor = i\n",
    "    return menor"
   ]
  },
  {
   "cell_type": "code",
   "execution_count": 117,
   "id": "cd9121f9",
   "metadata": {},
   "outputs": [
    {
     "name": "stdout",
     "output_type": "stream",
     "text": [
      "13\n"
     ]
    }
   ],
   "source": [
    "x = menorDato(V)\n",
    "print(V[x])"
   ]
  },
  {
   "cell_type": "markdown",
   "id": "8439ae88",
   "metadata": {},
   "source": [
    "## Intercambiar datos en un vector"
   ]
  },
  {
   "cell_type": "code",
   "execution_count": 118,
   "id": "2528d725",
   "metadata": {},
   "outputs": [],
   "source": [
    "def intercambiar(V, i, j):\n",
    "    aux = V[i]\n",
    "    V[i] = V[j]\n",
    "    V[j] = aux"
   ]
  },
  {
   "cell_type": "code",
   "execution_count": 119,
   "id": "4cc06205",
   "metadata": {},
   "outputs": [
    {
     "name": "stdout",
     "output_type": "stream",
     "text": [
      "[7, 95, 13, 69, 44, 68, 86, 56, 0, 0, 0]\n"
     ]
    }
   ],
   "source": [
    "intercambiar(V, 2, 3)\n",
    "print(V)"
   ]
  },
  {
   "cell_type": "markdown",
   "id": "84017d46",
   "metadata": {},
   "source": [
    "## Ordenamiento por selección"
   ]
  },
  {
   "cell_type": "code",
   "execution_count": 155,
   "id": "dacb209f",
   "metadata": {},
   "outputs": [],
   "source": [
    "def ordenaAscend(V):\n",
    "    nn = V[0] + 1\n",
    "    for i in range(1, V[0]):\n",
    "        k = i\n",
    "        for j in range(i+1, nn):\n",
    "            if V[j] < V[k]:\n",
    "                k = j\n",
    "            intercambiar(V, i, k)"
   ]
  },
  {
   "cell_type": "code",
   "execution_count": 121,
   "id": "be9feef2",
   "metadata": {},
   "outputs": [
    {
     "name": "stdout",
     "output_type": "stream",
     "text": [
      "[7, 56, 13, 44, 68, 69, 86, 95, 0, 0, 0]\n"
     ]
    }
   ],
   "source": [
    "ordenaAscend(V)\n",
    "print(V)"
   ]
  },
  {
   "cell_type": "markdown",
   "id": "e13b72e8",
   "metadata": {},
   "source": [
    "## Ordenamiento burbuja"
   ]
  },
  {
   "cell_type": "code",
   "execution_count": 131,
   "id": "888bea94",
   "metadata": {},
   "outputs": [],
   "source": [
    "def ordenaAscenBur(V):\n",
    "    for i in range(1, V[0]):\n",
    "        for j in range(1, V[0]-i+1):\n",
    "            if V[j] > V[j+1]:\n",
    "                intercambiar(V, j, j+1)\n",
    "    return V"
   ]
  },
  {
   "cell_type": "code",
   "execution_count": 134,
   "id": "43811b15",
   "metadata": {},
   "outputs": [
    {
     "name": "stdout",
     "output_type": "stream",
     "text": [
      "[9, 8, 62, 92, 17, 28, 63, 90, 49, 98]\n",
      "[9, 8, 17, 28, 49, 62, 63, 90, 92, 98]\n"
     ]
    }
   ],
   "source": [
    "n = 10\n",
    "V2 = [0] * n\n",
    "construyeVector(V2,9)\n",
    "print(V2)\n",
    "V3 = ordenaAscenBur(V2)\n",
    "print(V3)"
   ]
  },
  {
   "cell_type": "markdown",
   "id": "34bdbeee",
   "metadata": {},
   "source": [
    "## Búsqueda datos no ordenados"
   ]
  },
  {
   "cell_type": "code",
   "execution_count": 147,
   "id": "1de32770",
   "metadata": {},
   "outputs": [],
   "source": [
    "def buscarDato(d, V):\n",
    "    i = 1\n",
    "    while i <= V[0] and V[i] != d:\n",
    "        i = i + 1\n",
    "    if i <= V[0]:\n",
    "        return i\n",
    "    return -1"
   ]
  },
  {
   "cell_type": "code",
   "execution_count": 148,
   "id": "c9bba918",
   "metadata": {},
   "outputs": [
    {
     "name": "stdout",
     "output_type": "stream",
     "text": [
      "28\n"
     ]
    }
   ],
   "source": [
    "ind = buscarDato(28, V2)\n",
    "print(V2[ind])"
   ]
  },
  {
   "cell_type": "markdown",
   "id": "0d5bbb77",
   "metadata": {},
   "source": [
    "## Busqueda binaria"
   ]
  },
  {
   "cell_type": "code",
   "execution_count": 139,
   "id": "dbabbe63",
   "metadata": {},
   "outputs": [],
   "source": [
    "def busBin(V, d):\n",
    "    inicio = 1\n",
    "    fin = V[0]\n",
    "    while inicio <= fin:\n",
    "        mitad = (inicio + fin) // 2\n",
    "        if V[mitad] == d:\n",
    "            return mitad\n",
    "        if d < V[mitad]:\n",
    "            fin = mitad - 1\n",
    "        else: \n",
    "            inicio = mitad + 1\n",
    "    return -1"
   ]
  },
  {
   "cell_type": "code",
   "execution_count": 140,
   "id": "4c29ccee",
   "metadata": {},
   "outputs": [
    {
     "name": "stdout",
     "output_type": "stream",
     "text": [
      "28\n"
     ]
    }
   ],
   "source": [
    "z = busBin(V3, 28)\n",
    "print(V3[z])"
   ]
  },
  {
   "cell_type": "markdown",
   "id": "c27799bb",
   "metadata": {},
   "source": [
    "## Borrar dato "
   ]
  },
  {
   "cell_type": "code",
   "execution_count": 149,
   "id": "7eae5e5c",
   "metadata": {},
   "outputs": [],
   "source": [
    "def borrarDatoEnPosicion(i, V):\n",
    "    for j in range(i, V[0]):\n",
    "        V[j] = V[j+1]\n",
    "    V[0] = V[0] - 1"
   ]
  },
  {
   "cell_type": "code",
   "execution_count": 150,
   "id": "b08ce3d0",
   "metadata": {
    "scrolled": true
   },
   "outputs": [
    {
     "name": "stdout",
     "output_type": "stream",
     "text": [
      "[8, 8, 17, 28, 49, 63, 90, 92, 98, 98]\n",
      "[7, 8, 17, 28, 49, 90, 92, 98, 98, 98]\n"
     ]
    }
   ],
   "source": [
    "print(V3)\n",
    "borrarDatoEnPosicion(5, V3)\n",
    "print(V3)"
   ]
  },
  {
   "cell_type": "code",
   "execution_count": 151,
   "id": "569f86a2",
   "metadata": {},
   "outputs": [],
   "source": [
    "def borrarDato(d, V):\n",
    "    i = buscarDato(d, V)\n",
    "    if i != -1:\n",
    "        borrarDatoEnPosicion(i, V)"
   ]
  },
  {
   "cell_type": "code",
   "execution_count": 152,
   "id": "d45e1c4b",
   "metadata": {},
   "outputs": [
    {
     "name": "stdout",
     "output_type": "stream",
     "text": [
      "[7, 8, 17, 28, 49, 90, 92, 98, 98, 98]\n",
      "[7, 8, 17, 28, 49, 90, 92, 98, 98, 98]\n"
     ]
    }
   ],
   "source": [
    "print(V3)\n",
    "borrarDato(63, V)\n",
    "print(V3)"
   ]
  },
  {
   "cell_type": "markdown",
   "id": "bdc2c186",
   "metadata": {},
   "source": [
    "# Introducción a la programación orientada a objetos (POO)"
   ]
  }
 ],
 "metadata": {
  "kernelspec": {
   "display_name": "Python 3",
   "language": "python",
   "name": "python3"
  },
  "language_info": {
   "codemirror_mode": {
    "name": "ipython",
    "version": 3
   },
   "file_extension": ".py",
   "mimetype": "text/x-python",
   "name": "python",
   "nbconvert_exporter": "python",
   "pygments_lexer": "ipython3",
   "version": "3.9.1"
  }
 },
 "nbformat": 4,
 "nbformat_minor": 5
}
